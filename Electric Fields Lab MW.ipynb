{
 "cells": [
  {
   "cell_type": "markdown",
   "metadata": {},
   "source": [
    "Mariah Wear\n",
    "# Electric Fields Lab\n",
    "2/14/19"
   ]
  },
  {
   "cell_type": "code",
   "execution_count": 7,
   "metadata": {},
   "outputs": [],
   "source": [
    "import numpy as np"
   ]
  },
  {
   "cell_type": "code",
   "execution_count": 29,
   "metadata": {},
   "outputs": [
    {
     "name": "stdout",
     "output_type": "stream",
     "text": [
      "channel 1 & 2 average V [9.62  9.34  9.135 8.86  8.605 8.12  7.87  7.365 6.925 6.435 5.915 4.75\n",
      " 3.9   2.56 ]\n",
      "E array =  [ 56.  41.  55.  51.  97.  50. 101.  88.  98. 104. 233. 170. 268.]\n",
      "lnE =  [4.02535169 3.71357207 4.00733319 3.93182563 4.57471098 3.91202301\n",
      " 4.61512052 4.47733681 4.58496748 4.6443909  5.45103845 5.13579844\n",
      " 5.59098698]\n",
      "lnR_mid =  [-2.69562768 -2.77258872 -2.85597033 -2.94694211 -3.04702557 -3.1582512\n",
      " -3.28341435 -3.42651519 -3.59356927 -3.79423997 -4.0455544  -4.38202663\n",
      " -4.89285226]\n"
     ]
    }
   ],
   "source": [
    "channel2_array = np.array([9.59,9.22,9.07,8.92,8.61,7.94,7.68,7.29,6.99,6.39,5.93,4.55,3.79,2.23])\n",
    "channel3_array = np.array([9.65,9.46,9.20,8.80,8.60,8.30,8.06,7.44,6.86,6.48,5.90,4.95,4.01,2.89])\n",
    "ch_avg_array = (channel2_array+channel3_array)/2\n",
    "print(\"channel 1 & 2 average V\", ch_avg_array)\n",
    "delta_v1 = 9.62-9.34\n",
    "delta_v2 = 9.34-9.135\n",
    "delta_v3 = 9.135-8.86\n",
    "delta_v4 = 8.86-8.605\n",
    "delta_v5 = 8.605-8.12\n",
    "delta_v6 = 8.12-7.87\n",
    "delta_v7 = 7.87-7.365\n",
    "delta_v8 = 7.365-6.925\n",
    "delta_v9 = 6.925-6.435\n",
    "delta_v10 = 6.435-5.915\n",
    "delta_v11 = 5.915-4.75\n",
    "delta_v12 = 4.75-3.9\n",
    "delta_v13 = 3.9-2.56\n",
    "delta_v_array = np.array([delta_v1,delta_v2,delta_v3,delta_v4,delta_v5,delta_v6,delta_v7,delta_v8,delta_v9,delta_v10,delta_v11,delta_v12,delta_v13])\n",
    "delta_r_array = np.array([.005,.005,.005,.005,.005,.005,.005,.005,.005,.005,.005,.005,.005])\n",
    "r_mid_array = np.array([.0675,.0625,.0575,.0525,.0475,.0425,.0375,.0325,.0275,.0225,.0175,.0125,0.0075])\n",
    "E_array = (delta_v_array/delta_r_array)\n",
    "print(\"E array = \",E_array)\n",
    "lnE = np.log(E_array)\n",
    "lnR_mid = np.log(r_mid_array)\n",
    "print(\"lnE = \", lnE)\n",
    "print(\"lnR_mid = \", lnR_mid)\n"
   ]
  },
  {
   "cell_type": "markdown",
   "metadata": {},
   "source": [
    "error analysis"
   ]
  },
  {
   "cell_type": "code",
   "execution_count": 27,
   "metadata": {},
   "outputs": [
    {
     "name": "stdout",
     "output_type": "stream",
     "text": [
      "err_Delta_R = 0.0007071067811865475\n"
     ]
    }
   ],
   "source": [
    "def rule3(errA,errB):\n",
    "    errQ = np.sqrt(errA**2+errB**2)\n",
    "    return errQ\n",
    "\n",
    "errR_i = 0.0005 #m\n",
    "errR_f = 0.0005 #m\n",
    "\n",
    "err_Delta_R = rule3(errR_i,errR_f)\n",
    "print(\"err_Delta_R =\", err_Delta_R)"
   ]
  },
  {
   "cell_type": "code",
   "execution_count": 26,
   "metadata": {},
   "outputs": [
    {
     "name": "stdout",
     "output_type": "stream",
     "text": [
      "err_Delta V = 0.0282842712474619\n"
     ]
    }
   ],
   "source": [
    "def rule3(errA,errB):\n",
    "    errQ = np.sqrt(errA**2+errB**2)\n",
    "    return errQ\n",
    "\n",
    "errV_i = 0.02 #V\n",
    "errV_f = 0.02 #V\n",
    "\n",
    "err_Delta_V = rule3(errV_i,errV_f)\n",
    "print(\"err_Delta V =\",err_Delta_V)"
   ]
  },
  {
   "cell_type": "code",
   "execution_count": 11,
   "metadata": {},
   "outputs": [
    {
     "name": "stdout",
     "output_type": "stream",
     "text": [
      "Error E = [0.00419026 0.00452548 0.00491901 0.00538748 0.0059546  0.00665513\n",
      " 0.00754252 0.0087029  0.01028529 0.012571   0.01616468 0.02263069\n",
      " 0.03774996]\n"
     ]
    }
   ],
   "source": [
    "def rule4(Q,errA,A,m,errB,B,n):\n",
    "    errQ = Q*np.sqrt((m*(errA/A))**2+((n*(errB/B))**2))\n",
    "    return errQ\n",
    "\n",
    "delV = delta_v_array #m\n",
    "errdelV = err_Delta_V #m\n",
    "m = 1\n",
    "r_mid = r_mid_array #m\n",
    "err_r_mid = err_Delta_R #m\n",
    "n = -1\n",
    "E = delV*r_mid**-1\n",
    "\n",
    "err_E = rule4(E,errdelV,delV,m,err_r_mid,r_mid,n)\n",
    "print(\"Error E =\",err_E)"
   ]
  },
  {
   "cell_type": "code",
   "execution_count": 12,
   "metadata": {},
   "outputs": [
    {
     "name": "stdout",
     "output_type": "stream",
     "text": [
      "Error ln(E) =  [0.00745476 0.0109773  0.00890389 0.01050829 0.00612    0.01322246\n",
      " 0.00744009 0.00984108 0.0104405  0.01201503 0.00691368 0.01322434\n",
      " 0.01398752]\n"
     ]
    }
   ],
   "source": [
    "err_lnE = np.log(E_array+err_E)-np.log(E_array)\n",
    "print(\"Error ln(E) = \",err_lnE)"
   ]
  },
  {
   "cell_type": "code",
   "execution_count": 13,
   "metadata": {},
   "outputs": [
    {
     "name": "stdout",
     "output_type": "stream",
     "text": [
      "Error ln(Rmid) = [0.00010475 0.00011313 0.00012297 0.00013468 0.00014885 0.00016636\n",
      " 0.00018854 0.00021755 0.0002571  0.00031422 0.00040398 0.00056553\n",
      " 0.00094236]\n"
     ]
    }
   ],
   "source": [
    "err_ln_Rmid = np.log(r_mid_array+err_Delta_R)-np.log(r_mid_array)\n",
    "print(\"Error ln(Rmid) =\",err_ln_Rmid)"
   ]
  },
  {
   "cell_type": "code",
   "execution_count": 25,
   "metadata": {},
   "outputs": [],
   "source": [
    "n = .8899 #from excel graph\n",
    "err_n = .084"
   ]
  },
  {
   "cell_type": "code",
   "execution_count": 30,
   "metadata": {},
   "outputs": [
    {
     "data": {
      "image/png": "[encoded data removed]",
      "text/plain": [
       "<Figure size 432x288 with 1 Axes>"
      ]
     },
     "metadata": {
      "needs_background": "light"
     },
     "output_type": "display_data"
    }
   ],
   "source": [
    "import matplotlib.pyplot as plt\n",
    "y=lnE\n",
    "x=lnR_mid\n",
    "dy=err_E\n",
    "plt.scatter(x,y)\n",
    "plt.ylabel('Ln(E/Eo)')\n",
    "plt.xlabel('Ln(Rmid/Ro)')\n",
    "plt.annotate('slope = {value:.{digits}E}'.format(value=m,digits=2),\n",
    "            (0.05,0.9), xycoords='axes fraction')\n",
    "plt.show()"
   ]
  },
  {
   "cell_type": "code",
   "execution_count": null,
   "metadata": {},
   "outputs": [],
   "source": []
  }
 ],
 "metadata": {
  "kernelspec": {
   "display_name": "Python 3",
   "language": "python",
   "name": "python3"
  },
  "language_info": {
   "codemirror_mode": {
    "name": "ipython",
    "version": 3
   },
   "file_extension": ".py",
   "mimetype": "text/x-python",
   "name": "python",
   "nbconvert_exporter": "python",
   "pygments_lexer": "ipython3",
   "version": "3.7.1"
  }
 },
 "nbformat": 4,
 "nbformat_minor": 2
}
